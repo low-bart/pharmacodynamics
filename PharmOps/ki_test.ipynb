{
 "cells": [
  {
   "cell_type": "code",
   "execution_count": null,
   "metadata": {},
   "outputs": [],
   "source": [
    "from openpyxl import load_workbook\n",
    "import PharmOps.io as pharmio\n",
    "import pandas as pd\n",
    "import matplotlib.pyplot as plt\n",
    "filepathDAR = r'E:\\pharmacodynamics\\sample data\\summary table\\DAR Ki values 34485-494.xlsx'\n",
    "filepath5HT = r'E:\\pharmacodynamics\\sample data\\summary table\\5HTR KI table 34485-34494.xlsx'\n",
    "wbDAR = load_workbook(filepathDAR, data_only=True)\n",
    "wb5HT = load_workbook(filepath5HT, data_only=True)"
   ]
  },
  {
   "cell_type": "code",
   "execution_count": null,
   "metadata": {},
   "outputs": [],
   "source": [
    "summaryDAR = pharmio.load_binding_summary_excel(filepathDAR)\n",
    "summary5HT = pharmio.load_binding_summary_excel(filepath5HT)"
   ]
  },
  {
   "cell_type": "code",
   "execution_count": null,
   "metadata": {},
   "outputs": [],
   "source": [
    "print(summaryDAR)\n",
    "print(summary5HT)\n",
    "combined = {}\n",
    "for key in summaryDAR:\n",
    "    if (key in summary5HT and \n",
    "            isinstance(summaryDAR[key], dict) and \n",
    "            isinstance(summary5HT[key], dict)):\n",
    "        combined[key] = {**summaryDAR[key], **summary5HT[key]}\n",
    "        \n",
    "print(combined)"
   ]
  },
  {
   "cell_type": "code",
   "execution_count": null,
   "metadata": {},
   "outputs": [],
   "source": [
    "def round_sig(x, sigFigs):\n",
    "    rounded = '{:g}'.format(float('{:.{p}g}'.format(x, p=sigFigs)))\n",
    "    if len(rounded) < sigFigs and '.' not in rounded:\n",
    "        rounded = rounded + '.'\n",
    "    while len(rounded) <= sigFigs and '.' in rounded:\n",
    "        rounded = rounded + '0'\n",
    "    return rounded\n",
    "\n",
    "meanPrecision = 3\n",
    "semPrecision = 2\n",
    "for key, nestedDict in combined.items():\n",
    "    print(f\"Drug: {key}\")\n",
    "    df = pd.DataFrame()\n",
    "    df['Receptor'] = list(combined[key].keys())\n",
    "    ic50 = []\n",
    "    ki = []\n",
    "    hillSlope = []\n",
    "    for subKey, values in nestedDict.items():\n",
    "        if isinstance(values, dict):\n",
    "            if 'mean' in values and 'sem' in values:\n",
    "                meanVals = values['mean']\n",
    "                semVals = values['sem']\n",
    "                combinedVals = {}\n",
    "                for meanKey, semKey in zip(meanVals.keys(), semVals.keys()):\n",
    "                    outputStr = f\"{round_sig(meanVals[meanKey], meanPrecision)} ± {round_sig(semVals[semKey], semPrecision)}\"\n",
    "                    match(meanKey):\n",
    "                        case('ic50'):\n",
    "                            ic50.append(outputStr)\n",
    "                        case('ki'):\n",
    "                            ki.append(outputStr)\n",
    "                        case('hillSlope'):\n",
    "                            hillSlope.append(outputStr)\n",
    "    df['IC₅₀ (nM) ± SEM'] = ic50\n",
    "    df['Ki (nM) ± SEM'] = ki\n",
    "    df['Hill Slope ± SEM'] = hillSlope\n",
    "    fig, ax = plt.subplots()\n",
    "    ax.axis('tight')\n",
    "    ax.axis('off')\n",
    "    ax.table(cellText=df.values,\n",
    "            colLabels=df.columns,\n",
    "            loc='center',\n",
    "            cellLoc='center')\n",
    "    plt.tight_layout()\n",
    "    plt.savefig(f'..\\sample data\\{key}.png', bbox_inches='tight')"
   ]
  },
  {
   "cell_type": "code",
   "execution_count": null,
   "metadata": {},
   "outputs": [],
   "source": [
    "import PharmOps.io as pharmio\n",
    "pharmio.make_function_table(r'E:\\pharmacodynamics\\sample data\\summary table')\n"
   ]
  }
 ],
 "metadata": {
  "kernelspec": {
   "display_name": "Python 3",
   "language": "python",
   "name": "python3"
  },
  "language_info": {
   "codemirror_mode": {
    "name": "ipython",
    "version": 3
   },
   "file_extension": ".py",
   "mimetype": "text/x-python",
   "name": "python",
   "nbconvert_exporter": "python",
   "pygments_lexer": "ipython3",
   "version": "3.10.5"
  }
 },
 "nbformat": 4,
 "nbformat_minor": 2
}
