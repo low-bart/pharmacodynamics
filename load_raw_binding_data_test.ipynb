{
 "cells": [
  {
   "cell_type": "code",
   "execution_count": null,
   "metadata": {},
   "outputs": [],
   "source": [
    "pip install -e ."
   ]
  },
  {
   "cell_type": "code",
   "execution_count": null,
   "metadata": {},
   "outputs": [],
   "source": [
    "import pandas as pd\n",
    "import numpy as np\n",
    "import PharmOps\n",
    "from importlib.metadata import version"
   ]
  },
  {
   "cell_type": "code",
   "execution_count": null,
   "metadata": {},
   "outputs": [],
   "source": [
    "# import raw data spreadsheet\n",
    "rawData = pd.read_excel('sample data\\\\Binding Template for RAW transformations.xlsx')\n",
    "rawData"
   ]
  },
  {
   "cell_type": "code",
   "execution_count": null,
   "metadata": {},
   "outputs": [],
   "source": [
    "# 8 rows, labeled A-H in unnamed first column. 12 columns of wells\n",
    "rowLabel = rawData.loc[rawData.index[0:8], ['Unnamed: 0']]\n",
    "rawValues = rawData.loc[rawData.index[0:8], [1, 2, 3, 4, 5, 6, 7, 8, 9, 10, 11, 12]]\n",
    "print(rawValues)\n",
    "print(rowLabel)"
   ]
  },
  {
   "cell_type": "code",
   "execution_count": null,
   "metadata": {},
   "outputs": [],
   "source": [
    "# data loading\n",
    "testBind = PharmOps.WellData(rawData)\n",
    "testBind.display()"
   ]
  },
  {
   "cell_type": "code",
   "execution_count": null,
   "metadata": {},
   "outputs": [],
   "source": [
    "# object serialization and saving\n",
    "import pickle\n",
    "import h5py\n",
    "\n",
    "filePath = \"sample data/testH5.h5\"\n",
    "serializedObj = pickle.dumps(testBind)\n",
    "serializedArray = np.frombuffer(serializedObj, dtype='uint8')\n",
    "groupName = \"testObjects\"\n",
    "datasetName = \"testData\"\n",
    "with h5py.File(filePath, \"a\") as h5file:\n",
    "    group = h5file.require_group(groupName)\n",
    "    if datasetName in group:\n",
    "        del group[datasetName]\n",
    "        print(f\"Dataset '{datasetName}' exists. Overwriting.\")\n",
    "    group.create_dataset(\"testData\", data=np.frombuffer(serializedObj, dtype='uint8'))\n",
    "    metadata = h5file.require_group(\"metadata\")\n",
    "    currentVersion = version(\"PharmOps\")\n",
    "    metadata.attrs[\"version\"] = currentVersion"
   ]
  },
  {
   "cell_type": "code",
   "execution_count": null,
   "metadata": {},
   "outputs": [],
   "source": [
    "# object loading and deserialization\n",
    "with h5py.File(filePath, \"r\") as h5file:\n",
    "    if groupName not in h5file or datasetName not in h5file[groupName]:\n",
    "        raise KeyError(f\"Dataset '{datasetName}' not found in group '{groupName}'\")\n",
    "    \n",
    "    serializedArray = h5file[groupName][datasetName][:]\n",
    "    loadedRawData = pickle.loads(serializedArray.tobytes())\n",
    "    print(list(h5file.keys()))\n",
    "\n",
    "loadedRawData.display()"
   ]
  },
  {
   "cell_type": "code",
   "execution_count": null,
   "metadata": {},
   "outputs": [],
   "source": [
    "# GUI sandbox\n",
    "import tkinter as tk\n",
    "from tkinter import ttk\n",
    "\n",
    "root = tk.Tk()\n",
    "root.title(\"binding GUI test\")\n",
    "root.geometry(\"625x300\")\n",
    "\n",
    "mainframe = ttk.Frame(root)\n",
    "mainframe['borderwidth'] = 10\n",
    "mainframe['relief'] = 'sunken'\n",
    "mainframe.grid(row=0, column=0, sticky=\"N, S, E, W\", padx=5, pady=5)\n",
    "root.grid_rowconfigure(0, weight=1)\n",
    "root.grid_columnconfigure(0, weight=1)\n",
    "\n",
    "\n",
    "currentObj = loadedRawData\n",
    "tree = ttk.Treeview(mainframe, columns=list(currentObj.data.columns), show=\"headings\")\n",
    "tree.grid(row=0, column=0, sticky=\"N, S, E, W\")\n",
    "\n",
    "for col in currentObj.data.columns:\n",
    "    tree.heading(col, text=col)\n",
    "    tree.column(col, width=100, anchor=tk.CENTER)\n",
    "\n",
    "for _, row in currentObj.data.iterrows():\n",
    "    tree.insert(\"\", tk.END, values=list(row))\n",
    "\n",
    "mainframe.grid_rowconfigure(0, weight=1)\n",
    "mainframe.grid_columnconfigure(0, weight=1)\n",
    "\n",
    "scroll_x = ttk.Scrollbar(mainframe, orient=tk.HORIZONTAL, command=tree.xview)\n",
    "scroll_x.grid(row=1, column=0, sticky=\"E, W\")\n",
    "scroll_y = ttk.Scrollbar(mainframe, orient=tk.VERTICAL, command=tree.yview)\n",
    "scroll_y.grid(row=0, column=1, sticky=\"N, S\")\n",
    "\n",
    "tree.configure(xscrollcommand=scroll_x.set, yscrollcommand=scroll_y.set)\n",
    "\n",
    "label = ttk.Label(root, text=\"more text\")\n",
    "label.grid(row=1, column=0, sticky=\"W\", padx=5, pady=5)\n",
    "\n",
    "button = ttk.Button(root, text=\"Click me\")\n",
    "button.grid(row=2, column=0, sticky=\"W\", padx=5, pady=5)\n",
    "root.mainloop()"
   ]
  }
 ],
 "metadata": {
  "kernelspec": {
   "display_name": "Python 3",
   "language": "python",
   "name": "python3"
  },
  "language_info": {
   "codemirror_mode": {
    "name": "ipython",
    "version": 3
   },
   "file_extension": ".py",
   "mimetype": "text/x-python",
   "name": "python",
   "nbconvert_exporter": "python",
   "pygments_lexer": "ipython3",
   "version": "3.10.5"
  }
 },
 "nbformat": 4,
 "nbformat_minor": 2
}
